{
 "cells": [
  {
   "cell_type": "code",
   "execution_count": 114,
   "metadata": {
    "collapsed": true
   },
   "outputs": [],
   "source": [
    "import yaml\n",
    "import os\n",
    "from collections import defaultdict\n",
    "import json"
   ]
  },
  {
   "cell_type": "code",
   "execution_count": 115,
   "metadata": {
    "collapsed": false
   },
   "outputs": [],
   "source": [
    "base_path = './ipl/'\n",
    "all_data = defaultdict(list)\n",
    "\n",
    "def process_current_match(loaded_stream):\n",
    "    match_date = loaded_stream['info']['dates'][0].isoformat()\n",
    "    batsman_runs = defaultdict(int)\n",
    "    for per_innings_data in loaded_stream['innings']:\n",
    "        for inning_num in per_innings_data.keys():\n",
    "            innings_meta = per_innings_data[inning_num]\n",
    "            all_balls = innings_meta['deliveries']\n",
    "            for ball in all_balls:\n",
    "                ball_num = ball.keys()[0]\n",
    "                batsman_data = ball[ball_num]\n",
    "                batsman_name = batsman_data['batsman']\n",
    "                batsman_runs_on_ball = batsman_data['runs']['batsman']\n",
    "                batsman_runs[batsman_name] += batsman_runs_on_ball\n",
    "    for batsman_name in batsman_runs.keys():\n",
    "        all_data[batsman_name].append({\n",
    "                \"runs\": batsman_runs[batsman_name],\n",
    "                \"match_date\": match_date\n",
    "        })"
   ]
  },
  {
   "cell_type": "code",
   "execution_count": 116,
   "metadata": {
    "collapsed": false
   },
   "outputs": [
    {
     "name": "stdout",
     "output_type": "stream",
     "text": [
      "0/577\n",
      "50/577\n",
      "100/577\n",
      "150/577\n",
      "200/577\n",
      "250/577\n",
      "300/577\n",
      "350/577\n",
      "400/577\n",
      "450/577\n",
      "500/577\n",
      "550/577\n"
     ]
    }
   ],
   "source": [
    "for root, dirs, files in os.walk(base_path):\n",
    "    for count, file_ in enumerate(files):\n",
    "        with open(base_path + file_) as stream:\n",
    "            try:\n",
    "                loaded_stream = yaml.load(stream)\n",
    "                process_current_match(loaded_stream)\n",
    "                if count % 50 == 0:\n",
    "                    print (str(count) + \"/\" + str(len(files)))\n",
    "            except yaml.YAMLError as exc:\n",
    "                print(exc)"
   ]
  },
  {
   "cell_type": "code",
   "execution_count": 117,
   "metadata": {
    "collapsed": false
   },
   "outputs": [],
   "source": [
    "with open('compressed_ipl_data.txt', 'w+') as out_file:\n",
    "    json.dump(dict(all_data), out_file)"
   ]
  }
 ],
 "metadata": {
  "kernelspec": {
   "display_name": "Python 2",
   "language": "python",
   "name": "python2"
  },
  "language_info": {
   "codemirror_mode": {
    "name": "ipython",
    "version": 2
   },
   "file_extension": ".py",
   "mimetype": "text/x-python",
   "name": "python",
   "nbconvert_exporter": "python",
   "pygments_lexer": "ipython2",
   "version": "2.7.11"
  }
 },
 "nbformat": 4,
 "nbformat_minor": 0
}
